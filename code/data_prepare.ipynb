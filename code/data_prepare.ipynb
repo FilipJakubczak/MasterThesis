{
 "cells": [
  {
   "cell_type": "markdown",
   "metadata": {},
   "source": [
    "## Import libraries"
   ]
  },
  {
   "cell_type": "code",
   "execution_count": 1,
   "metadata": {},
   "outputs": [
    {
     "data": {
      "text/html": [
       "        <script type=\"text/javascript\">\n",
       "        window.PlotlyConfig = {MathJaxConfig: 'local'};\n",
       "        if (window.MathJax && window.MathJax.Hub && window.MathJax.Hub.Config) {window.MathJax.Hub.Config({SVG: {font: \"STIX-Web\"}});}\n",
       "        if (typeof require !== 'undefined') {\n",
       "        require.undef(\"plotly\");\n",
       "        requirejs.config({\n",
       "            paths: {\n",
       "                'plotly': ['https://cdn.plot.ly/plotly-2.14.0.min']\n",
       "            }\n",
       "        });\n",
       "        require(['plotly'], function(Plotly) {\n",
       "            window._Plotly = Plotly;\n",
       "        });\n",
       "        }\n",
       "        </script>\n",
       "        "
      ]
     },
     "metadata": {},
     "output_type": "display_data"
    }
   ],
   "source": [
    "import importlib\n",
    "import aux_func\n",
    "importlib.reload(aux_func)\n",
    "\n",
    "from tqdm import tqdm\n",
    "tqdm.pandas()\n",
    "import pandas as pd\n",
    "import numpy as np\n",
    "import time\n",
    "import re\n",
    "import morfeusz2\n",
    "from collections import Counter\n",
    "import networkx as nx\n",
    "import matplotlib.pyplot as plt\n",
    "import matplotlib as mpl\n",
    "import seaborn as sns\n",
    "import matplotlib.ticker as ticker\n",
    "from pylab import cm\n",
    "from itertools import product, combinations\n",
    "import matplotlib.font_manager as fm\n",
    "from aux_func import to_1D, text_to_word_list, rem_stopwords_tokenize, lemmatize_all, find_optimal_clusters, plot_tsne_pca, get_top_keywords\n",
    "\n",
    "from scipy.stats import bernoulli, binom, norm, binom_test\n",
    "from unidecode import unidecode\n",
    "from sklearn.feature_extraction.text import TfidfVectorizer\n",
    "from sklearn.cluster import MiniBatchKMeans\n",
    "from sklearn.decomposition import PCA\n",
    "import plotly.express as px\n",
    "import plotly\n",
    "from sentimentpl.models import SentimentPLModel\n",
    "plotly.offline.init_notebook_mode (connected = True)\n",
    "mpl.rcParams['font.family'] = 'Avenir'\n",
    "plt.rcParams['font.size'] = 18\n",
    "plt.rcParams['axes.linewidth'] = 2\n",
    "colors = cm.get_cmap('tab10', 2)"
   ]
  },
  {
   "cell_type": "markdown",
   "metadata": {},
   "source": [
    "## Load data"
   ]
  },
  {
   "cell_type": "code",
   "execution_count": 2,
   "metadata": {},
   "outputs": [],
   "source": [
    "speech_data = pd.read_csv(\"../data/speech_data.csv\", sep=\";\")\n",
    "speech_data[\"date\"] = pd.to_datetime(speech_data[\"date\"])\n",
    "speech_data[\"last_name\"] = speech_data[\"speaker\"].apply(lambda x: x.split(\" \")[0])\n",
    "speech_data.to_csv(\"../data/speech_data_org.csv\")\n",
    "\n",
    "deputies = pd.read_csv(\"../data/deputies.csv\", sep=\";\", names=[\"Name\", \"Party\"])\n",
    "deputies[\"last_name\"] = deputies[\"Name\"].apply(lambda x: x.split(\" \")[0])\n",
    "deputies.to_csv(\"../data/deputies_data_org.csv\")\n",
    "deputies.Party[deputies.Party == \"PO-KO\"] = \"PO\"\n",
    "deputies.Party[deputies.Party == \"PSL-KP\"] = \"PSL\"\n",
    "deputies.Party[deputies.Party == \"PSL-UED\"] = \"PSL\""
   ]
  },
  {
   "cell_type": "markdown",
   "metadata": {},
   "source": [
    "## Data cleaning"
   ]
  },
  {
   "cell_type": "markdown",
   "metadata": {},
   "source": [
    "#### Remove deputy Polak and same lastname deputies"
   ]
  },
  {
   "cell_type": "code",
   "execution_count": 3,
   "metadata": {},
   "outputs": [],
   "source": [
    "deputies = deputies[deputies[\"last_name\"] != \"Polak\"]\n",
    "deputies = deputies[deputies[\"last_name\"] != \"Duda\"]\n",
    "duplicates = deputies[deputies.duplicated(['last_name'], keep=False)]\n",
    "deputies.drop_duplicates(subset=['last_name'], keep=False, inplace=True)\n",
    "deputies_list = list(deputies[\"last_name\"])\n",
    "deputies.to_csv(\"../data/deputies_data_clean.csv\")\n",
    "\n",
    "speech_data_wo_dup = speech_data[~speech_data.last_name.isin(list(duplicates[\"last_name\"]))].copy()"
   ]
  },
  {
   "cell_type": "markdown",
   "metadata": {},
   "source": [
    "#### Merge datasets"
   ]
  },
  {
   "cell_type": "code",
   "execution_count": 4,
   "metadata": {},
   "outputs": [],
   "source": [
    "joined_data = pd.merge(speech_data_wo_dup, deputies[[\"last_name\", \"Party\"]], how=\"inner\", on=\"last_name\")"
   ]
  },
  {
   "cell_type": "markdown",
   "metadata": {},
   "source": [
    "## Text cleaning"
   ]
  },
  {
   "cell_type": "markdown",
   "metadata": {},
   "source": [
    "#### Remove non-speaker parts from speech"
   ]
  },
  {
   "cell_type": "code",
   "execution_count": 5,
   "metadata": {},
   "outputs": [],
   "source": [
    "full_text_list = []\n",
    "for name, t in zip(joined_data[\"speaker\"], joined_data[\"speech_text\"]):\n",
    "    is_ok = True\n",
    "    full_text = \"\"\n",
    "    for text in t.split(\"\\xa0\\xa0\"):\n",
    "        name_reversed = name.split(\" \")[1] + \" \" + name.split(\" \")[0]\n",
    "        if text != \"\":\n",
    "            if text[-1]==\":\":\n",
    "                is_ok = False\n",
    "            if text == f\"\\xa0 Poseł {name_reversed}:\":\n",
    "                is_ok = True\n",
    "            if is_ok and text !=  f\"\\xa0 Poseł {name_reversed}:\":\n",
    "                full_text += text\n",
    "    full_text_list.append(full_text)\n",
    "joined_data[\"speech_text_only_author\"] = full_text_list"
   ]
  },
  {
   "cell_type": "markdown",
   "metadata": {},
   "source": [
    "#### Remove special characters from speech text"
   ]
  },
  {
   "cell_type": "code",
   "execution_count": 6,
   "metadata": {},
   "outputs": [],
   "source": [
    "joined_data[\"speech_text_only_author\"].replace(to_replace = \"(@\\[0-9A-Za-ząćęłńóśżź,.():]+)|([^0-9A-Za-ząćęłńóśżź,.(): \\t])|(\\w+:\\/\\/\\S+)|^rt|http.+?|\\(.*\\)\"\n",
    "                            ,regex=True\n",
    "                            ,value=\"\"\n",
    "                            ,inplace=True)"
   ]
  },
  {
   "cell_type": "markdown",
   "metadata": {},
   "source": [
    "## Create derived variables"
   ]
  },
  {
   "cell_type": "markdown",
   "metadata": {},
   "source": [
    "#### Load Morfeusz"
   ]
  },
  {
   "cell_type": "code",
   "execution_count": 7,
   "metadata": {},
   "outputs": [],
   "source": [
    "morf = morfeusz2.Morfeusz()"
   ]
  },
  {
   "cell_type": "markdown",
   "metadata": {},
   "source": [
    "#### Create variable with mentions"
   ]
  },
  {
   "cell_type": "code",
   "execution_count": 8,
   "metadata": {},
   "outputs": [
    {
     "name": "stderr",
     "output_type": "stream",
     "text": [
      "100%|██████████| 37218/37218 [03:34<00:00, 173.74it/s]\n",
      "100%|██████████| 37218/37218 [00:00<00:00, 886423.48it/s]\n"
     ]
    }
   ],
   "source": [
    "# joined_data[\"mentions\"] = joined_data[\"speech_text_only_author\"].apply(lambda x: pd.unique([word[2][1].split(\":\")[0] for word in morf.analyse(x) if 'nazwisko' in word[2][3] and word[2][1].split(\":\")[0] in deputies_list]))\n",
    "joined_data[\"mentions_org\"] = joined_data[\"speech_text_only_author\"].progress_apply(lambda x: pd.unique([word[2][0].split(\":\")[0] for word in morf.analyse(x) if 'nazwisko' in word[2][3] and word[2][1].split(\":\")[0] in deputies_list]))\n",
    "joined_data[\"mentioned_someone\"] = joined_data[\"mentions_org\"].progress_apply(lambda x: len(x) != 0)\n",
    "joined_data.to_csv(\"../data/speech_data_clean.csv\")"
   ]
  },
  {
   "cell_type": "markdown",
   "metadata": {},
   "source": [
    "#### Create mentions dataset"
   ]
  },
  {
   "cell_type": "code",
   "execution_count": 23,
   "metadata": {},
   "outputs": [],
   "source": [
    "# mentions_data = joined_data[joined_data[\"mentioned_someone\"] == 1].copy()[[\"speaker\", \"last_name\", \"speech_text_only_author\", \"mentions\"]].explode('mentions').reset_index(drop=True)\n",
    "# mentions_data[\"mention_sentence\"] = mentions_data.apply(lambda x: [sentence + '.' for sentence in x[\"speech_text_only_author\"].split('.') if x[\"mentions\"] in sentence], axis=1)"
   ]
  },
  {
   "cell_type": "code",
   "execution_count": 9,
   "metadata": {},
   "outputs": [],
   "source": [
    "mentions_data_org = joined_data[joined_data[\"mentioned_someone\"] == 1].copy()[[\"speaker\", \"last_name\", \"speech_text_only_author\", \"mentions_org\"]].explode('mentions_org').reset_index(drop=True)\n",
    "mentions_data_org[\"mention_sentence\"] = mentions_data_org.apply(lambda x: [sentence + '.' for sentence in x[\"speech_text_only_author\"].split('.') if x[\"mentions_org\"] in sentence], axis=1)\n",
    "mentions_data_org[\"mentions\"] = mentions_data_org.apply(lambda x: pd.unique([word[2][1].split(\":\")[0] for word in morf.analyse(x.mentions_org) if 'nazwisko' in word[2][3]])[0], axis=1)\n",
    "\n"
   ]
  },
  {
   "cell_type": "markdown",
   "metadata": {},
   "source": [
    "#### Create probability dataset"
   ]
  },
  {
   "cell_type": "code",
   "execution_count": 10,
   "metadata": {},
   "outputs": [],
   "source": [
    "prob_data = mentions_data_org.copy()[[\"speaker\", \"last_name\", \"mentions\"]].rename(columns = {\"last_name\" : \"i\", \"mentions\" : \"j\"})\n",
    "prob_data[\"n_ij\"] = prob_data.groupby([\"i\", \"j\"]).transform(\"count\")\n",
    "prob_data[\"p_ij\"] = prob_data[\"n_ij\"] / len(prob_data)\n",
    "\n",
    "empirical_prob = pd.DataFrame(list(product(deputies[\"last_name\"],deputies[\"last_name\"])), columns=[\"i\", \"j\"])\n",
    "empirical_prob = pd.merge(empirical_prob, prob_data[[\"i\", \"j\", \"n_ij\", \"p_ij\"]], how=\"left\", on=[\"i\", \"j\"]).drop_duplicates()\n",
    "empirical_prob = pd.merge(empirical_prob, empirical_prob[[\"j\", \"i\", \"n_ij\"]], how=\"left\", left_on=[\"i\", \"j\"], right_on=[\"j\", \"i\"]).drop([\"j_y\", \"i_y\"], axis=1).rename(columns = {\"i_x\" : \"i\", \"j_x\" : \"j\", \"n_ij_x\" : \"n_ij\", \"n_ij_y\" : \"n_ji\"})\n",
    "empirical_prob[\"p_ji\"] = empirical_prob[\"n_ji\"] / len(prob_data)\n",
    "empirical_prob = empirical_prob.fillna(0)\n"
   ]
  },
  {
   "cell_type": "code",
   "execution_count": 11,
   "metadata": {},
   "outputs": [],
   "source": [
    "marginal_prob = empirical_prob.groupby(\"i\").sum().reset_index().rename(columns={\"n_ij\" : \"n_i\", \"p_ij\" : \"p_i\", \"n_ji\" : \"n_j\", \"p_ji\" : \"p_j\"})\n"
   ]
  },
  {
   "cell_type": "markdown",
   "metadata": {},
   "source": [
    "### Calculate model probabilities"
   ]
  },
  {
   "cell_type": "code",
   "execution_count": 12,
   "metadata": {},
   "outputs": [],
   "source": [
    "model_prob = pd.DataFrame(list(product(deputies[\"last_name\"],deputies[\"last_name\"])), columns=[\"i\", \"j\"])\n",
    "model_prob = pd.merge(model_prob, marginal_prob[[\"i\", \"p_i\"]], how=\"left\", on=\"i\")\n",
    "model_prob = pd.merge(model_prob, marginal_prob[[\"i\", \"p_j\"]], how=\"left\", left_on=\"j\", right_on=\"i\").drop(\"i_y\", axis=1).rename(columns = {\"i_x\" : \"i\"})\n",
    "\n",
    "model_prob[\"p_model_ij\"] = model_prob[\"p_i\"] * model_prob[\"p_j\"]"
   ]
  },
  {
   "cell_type": "markdown",
   "metadata": {},
   "source": [
    "### Empirical vs model probabilities"
   ]
  },
  {
   "cell_type": "code",
   "execution_count": 13,
   "metadata": {},
   "outputs": [],
   "source": [
    "emp_vs_model_prob = pd.DataFrame(list(product(deputies[\"last_name\"],deputies[\"last_name\"])), columns=[\"i\", \"j\"])\n",
    "\n",
    "emp_vs_model_prob = pd.merge(emp_vs_model_prob, model_prob[[\"i\", \"j\", \"p_model_ij\"]], how=\"left\", on=[\"i\", \"j\"])\n",
    "emp_vs_model_prob = pd.merge(emp_vs_model_prob, empirical_prob[[\"i\", \"j\", \"p_ij\", \"n_ij\"]], how=\"left\", on=[\"i\", \"j\"])"
   ]
  },
  {
   "cell_type": "code",
   "execution_count": 14,
   "metadata": {},
   "outputs": [],
   "source": [
    "emp_vs_model_prob[\"under\"] = emp_vs_model_prob.apply(lambda x: binom_test(x=x.n_ij, n=len(prob_data), p=x.p_model_ij, alternative=\"less\") <= 0.05, axis=1)\n",
    "emp_vs_model_prob[\"over\"] = emp_vs_model_prob.apply(lambda x: binom_test(x=x.n_ij, n=len(prob_data), p=x.p_model_ij, alternative=\"greater\") <= 0.05, axis=1)"
   ]
  },
  {
   "cell_type": "code",
   "execution_count": 15,
   "metadata": {},
   "outputs": [],
   "source": [
    "final_prob_data = emp_vs_model_prob.merge(deputies[[\"last_name\", \"Party\"]], left_on=\"i\", right_on=\"last_name\", how=\"left\")\n",
    "final_prob_data = final_prob_data.merge(deputies[[\"last_name\", \"Party\"]], left_on=\"j\", right_on=\"last_name\", how=\"left\").drop([\"last_name_x\", \"last_name_y\"], axis=1)\n",
    "final_prob_data.rename(columns={\"Party_x\":\"party_i\", \"Party_y\":\"party_j\"}, inplace=True)\n",
    "final_prob_data.to_csv(\"../data/final_prob_data.csv\")\n"
   ]
  },
  {
   "cell_type": "code",
   "execution_count": 16,
   "metadata": {},
   "outputs": [
    {
     "data": {
      "text/html": [
       "<div>\n",
       "<style scoped>\n",
       "    .dataframe tbody tr th:only-of-type {\n",
       "        vertical-align: middle;\n",
       "    }\n",
       "\n",
       "    .dataframe tbody tr th {\n",
       "        vertical-align: top;\n",
       "    }\n",
       "\n",
       "    .dataframe thead th {\n",
       "        text-align: right;\n",
       "    }\n",
       "</style>\n",
       "<table border=\"1\" class=\"dataframe\">\n",
       "  <thead>\n",
       "    <tr style=\"text-align: right;\">\n",
       "      <th></th>\n",
       "      <th>i</th>\n",
       "      <th>j</th>\n",
       "      <th>p_model_ij</th>\n",
       "      <th>p_ij</th>\n",
       "      <th>n_ij</th>\n",
       "      <th>under</th>\n",
       "      <th>over</th>\n",
       "      <th>party_i</th>\n",
       "      <th>party_j</th>\n",
       "    </tr>\n",
       "  </thead>\n",
       "  <tbody>\n",
       "    <tr>\n",
       "      <th>0</th>\n",
       "      <td>Abramowicz</td>\n",
       "      <td>Abramowicz</td>\n",
       "      <td>1.385456e-06</td>\n",
       "      <td>0.0</td>\n",
       "      <td>0.0</td>\n",
       "      <td>False</td>\n",
       "      <td>False</td>\n",
       "      <td>PiS</td>\n",
       "      <td>PiS</td>\n",
       "    </tr>\n",
       "    <tr>\n",
       "      <th>1</th>\n",
       "      <td>Abramowicz</td>\n",
       "      <td>Adamczyk</td>\n",
       "      <td>1.300197e-05</td>\n",
       "      <td>0.0</td>\n",
       "      <td>0.0</td>\n",
       "      <td>False</td>\n",
       "      <td>False</td>\n",
       "      <td>PiS</td>\n",
       "      <td>PiS</td>\n",
       "    </tr>\n",
       "    <tr>\n",
       "      <th>2</th>\n",
       "      <td>Abramowicz</td>\n",
       "      <td>Ajchler</td>\n",
       "      <td>0.000000e+00</td>\n",
       "      <td>0.0</td>\n",
       "      <td>0.0</td>\n",
       "      <td>False</td>\n",
       "      <td>False</td>\n",
       "      <td>PiS</td>\n",
       "      <td>PO</td>\n",
       "    </tr>\n",
       "    <tr>\n",
       "      <th>3</th>\n",
       "      <td>Abramowicz</td>\n",
       "      <td>Andruszkiewicz</td>\n",
       "      <td>4.262941e-07</td>\n",
       "      <td>0.0</td>\n",
       "      <td>0.0</td>\n",
       "      <td>False</td>\n",
       "      <td>False</td>\n",
       "      <td>PiS</td>\n",
       "      <td>niez.</td>\n",
       "    </tr>\n",
       "    <tr>\n",
       "      <th>4</th>\n",
       "      <td>Abramowicz</td>\n",
       "      <td>Andzel</td>\n",
       "      <td>1.492029e-06</td>\n",
       "      <td>0.0</td>\n",
       "      <td>0.0</td>\n",
       "      <td>False</td>\n",
       "      <td>False</td>\n",
       "      <td>PiS</td>\n",
       "      <td>PiS</td>\n",
       "    </tr>\n",
       "    <tr>\n",
       "      <th>...</th>\n",
       "      <td>...</td>\n",
       "      <td>...</td>\n",
       "      <td>...</td>\n",
       "      <td>...</td>\n",
       "      <td>...</td>\n",
       "      <td>...</td>\n",
       "      <td>...</td>\n",
       "      <td>...</td>\n",
       "      <td>...</td>\n",
       "    </tr>\n",
       "    <tr>\n",
       "      <th>207020</th>\n",
       "      <td>Żyżyński</td>\n",
       "      <td>Zwiercan</td>\n",
       "      <td>8.355364e-07</td>\n",
       "      <td>0.0</td>\n",
       "      <td>0.0</td>\n",
       "      <td>False</td>\n",
       "      <td>False</td>\n",
       "      <td>PiS</td>\n",
       "      <td>PiS</td>\n",
       "    </tr>\n",
       "    <tr>\n",
       "      <th>207021</th>\n",
       "      <td>Żyżyński</td>\n",
       "      <td>Zyska</td>\n",
       "      <td>9.548987e-07</td>\n",
       "      <td>0.0</td>\n",
       "      <td>0.0</td>\n",
       "      <td>False</td>\n",
       "      <td>False</td>\n",
       "      <td>PiS</td>\n",
       "      <td>PiS</td>\n",
       "    </tr>\n",
       "    <tr>\n",
       "      <th>207022</th>\n",
       "      <td>Żyżyński</td>\n",
       "      <td>Żalek</td>\n",
       "      <td>0.000000e+00</td>\n",
       "      <td>0.0</td>\n",
       "      <td>0.0</td>\n",
       "      <td>False</td>\n",
       "      <td>False</td>\n",
       "      <td>PiS</td>\n",
       "      <td>PiS</td>\n",
       "    </tr>\n",
       "    <tr>\n",
       "      <th>207023</th>\n",
       "      <td>Żyżyński</td>\n",
       "      <td>Żmijan</td>\n",
       "      <td>0.000000e+00</td>\n",
       "      <td>0.0</td>\n",
       "      <td>0.0</td>\n",
       "      <td>False</td>\n",
       "      <td>False</td>\n",
       "      <td>PiS</td>\n",
       "      <td>PO</td>\n",
       "    </tr>\n",
       "    <tr>\n",
       "      <th>207024</th>\n",
       "      <td>Żyżyński</td>\n",
       "      <td>Żyżyński</td>\n",
       "      <td>0.000000e+00</td>\n",
       "      <td>0.0</td>\n",
       "      <td>0.0</td>\n",
       "      <td>False</td>\n",
       "      <td>False</td>\n",
       "      <td>PiS</td>\n",
       "      <td>PiS</td>\n",
       "    </tr>\n",
       "  </tbody>\n",
       "</table>\n",
       "<p>207025 rows × 9 columns</p>\n",
       "</div>"
      ],
      "text/plain": [
       "                 i               j    p_model_ij  p_ij  n_ij  under   over  \\\n",
       "0       Abramowicz      Abramowicz  1.385456e-06   0.0   0.0  False  False   \n",
       "1       Abramowicz        Adamczyk  1.300197e-05   0.0   0.0  False  False   \n",
       "2       Abramowicz         Ajchler  0.000000e+00   0.0   0.0  False  False   \n",
       "3       Abramowicz  Andruszkiewicz  4.262941e-07   0.0   0.0  False  False   \n",
       "4       Abramowicz          Andzel  1.492029e-06   0.0   0.0  False  False   \n",
       "...            ...             ...           ...   ...   ...    ...    ...   \n",
       "207020    Żyżyński        Zwiercan  8.355364e-07   0.0   0.0  False  False   \n",
       "207021    Żyżyński           Zyska  9.548987e-07   0.0   0.0  False  False   \n",
       "207022    Żyżyński           Żalek  0.000000e+00   0.0   0.0  False  False   \n",
       "207023    Żyżyński          Żmijan  0.000000e+00   0.0   0.0  False  False   \n",
       "207024    Żyżyński        Żyżyński  0.000000e+00   0.0   0.0  False  False   \n",
       "\n",
       "       party_i party_j  \n",
       "0          PiS     PiS  \n",
       "1          PiS     PiS  \n",
       "2          PiS      PO  \n",
       "3          PiS   niez.  \n",
       "4          PiS     PiS  \n",
       "...        ...     ...  \n",
       "207020     PiS     PiS  \n",
       "207021     PiS     PiS  \n",
       "207022     PiS     PiS  \n",
       "207023     PiS      PO  \n",
       "207024     PiS     PiS  \n",
       "\n",
       "[207025 rows x 9 columns]"
      ]
     },
     "execution_count": 16,
     "metadata": {},
     "output_type": "execute_result"
    }
   ],
   "source": [
    "final_prob_data"
   ]
  },
  {
   "cell_type": "markdown",
   "metadata": {},
   "source": [
    "### Sentiment"
   ]
  },
  {
   "cell_type": "code",
   "execution_count": 20,
   "metadata": {},
   "outputs": [],
   "source": [
    "sentiment_data = pd.DataFrame(mentions_data_org.explode(\"mention_sentence\"))\n",
    "sentiment_data.mention_sentence = sentiment_data.mention_sentence.astype(str)\n",
    "sentiment_data.mention_sentence = sentiment_data.apply(lambda x: ''.join(char for char in x[\"mention_sentence\"] if not char.isdigit()), axis=1)"
   ]
  },
  {
   "cell_type": "code",
   "execution_count": 21,
   "metadata": {},
   "outputs": [
    {
     "data": {
      "text/html": [
       "<div>\n",
       "<style scoped>\n",
       "    .dataframe tbody tr th:only-of-type {\n",
       "        vertical-align: middle;\n",
       "    }\n",
       "\n",
       "    .dataframe tbody tr th {\n",
       "        vertical-align: top;\n",
       "    }\n",
       "\n",
       "    .dataframe thead th {\n",
       "        text-align: right;\n",
       "    }\n",
       "</style>\n",
       "<table border=\"1\" class=\"dataframe\">\n",
       "  <thead>\n",
       "    <tr style=\"text-align: right;\">\n",
       "      <th></th>\n",
       "      <th>speaker</th>\n",
       "      <th>last_name</th>\n",
       "      <th>speech_text_only_author</th>\n",
       "      <th>mentions_org</th>\n",
       "      <th>mention_sentence</th>\n",
       "      <th>mentions</th>\n",
       "    </tr>\n",
       "  </thead>\n",
       "  <tbody>\n",
       "    <tr>\n",
       "      <th>0</th>\n",
       "      <td>Abramowicz Adam</td>\n",
       "      <td>Abramowicz</td>\n",
       "      <td>Panie Marszałku Wysoki Sejmie Panie Ministrze...</td>\n",
       "      <td>Szydło</td>\n",
       "      <td>Dzisiaj mamy dla państwa doskonałą wiadomość:...</td>\n",
       "      <td>Szydło</td>\n",
       "    </tr>\n",
       "    <tr>\n",
       "      <th>1</th>\n",
       "      <td>Abramowicz Adam</td>\n",
       "      <td>Abramowicz</td>\n",
       "      <td>Panie Marszałku Wysoki Sejmie Rok temu Sejm u...</td>\n",
       "      <td>Morawiecki</td>\n",
       "      <td>Polski rząd zmienia to prawo, premier Mateusz...</td>\n",
       "      <td>Morawiecki</td>\n",
       "    </tr>\n",
       "    <tr>\n",
       "      <th>1</th>\n",
       "      <td>Abramowicz Adam</td>\n",
       "      <td>Abramowicz</td>\n",
       "      <td>Panie Marszałku Wysoki Sejmie Rok temu Sejm u...</td>\n",
       "      <td>Morawiecki</td>\n",
       "      <td>Dla nich premier Morawiecki także przewidział...</td>\n",
       "      <td>Morawiecki</td>\n",
       "    </tr>\n",
       "    <tr>\n",
       "      <th>2</th>\n",
       "      <td>Abramowicz Adam</td>\n",
       "      <td>Abramowicz</td>\n",
       "      <td>Panie Marszałku Wysoki Sejmie Panowie Ministr...</td>\n",
       "      <td>Morawiecki</td>\n",
       "      <td>Premier Morawiecki dołączył ten projekt do sw...</td>\n",
       "      <td>Morawiecki</td>\n",
       "    </tr>\n",
       "    <tr>\n",
       "      <th>3</th>\n",
       "      <td>Abramowicz Adam</td>\n",
       "      <td>Abramowicz</td>\n",
       "      <td>Panie Marszałku Wysoka Izbo Stoimy przed hist...</td>\n",
       "      <td>Morawieckiego</td>\n",
       "      <td>Za chwilę Wysoka Izba przyjmie ustawę z pakie...</td>\n",
       "      <td>Morawiecki</td>\n",
       "    </tr>\n",
       "    <tr>\n",
       "      <th>...</th>\n",
       "      <td>...</td>\n",
       "      <td>...</td>\n",
       "      <td>...</td>\n",
       "      <td>...</td>\n",
       "      <td>...</td>\n",
       "      <td>...</td>\n",
       "    </tr>\n",
       "    <tr>\n",
       "      <th>15311</th>\n",
       "      <td>Żyżyński Jerzy</td>\n",
       "      <td>Żyżyński</td>\n",
       "      <td>Panie Marszałku Wysoka Izbo Szanowni Państwo ...</td>\n",
       "      <td>Jaworski</td>\n",
       "      <td>Ten budżet po prostu jest dobrym budżetem w r...</td>\n",
       "      <td>Jaworski</td>\n",
       "    </tr>\n",
       "    <tr>\n",
       "      <th>15312</th>\n",
       "      <td>Żyżyński Jerzy</td>\n",
       "      <td>Żyżyński</td>\n",
       "      <td>Panie Marszałku Wysoka Izbo Szanowni Państwo ...</td>\n",
       "      <td>Jakubiak</td>\n",
       "      <td>Przy całej sympatii, bo pan Jakubiak produkuj...</td>\n",
       "      <td>Jakubiak</td>\n",
       "    </tr>\n",
       "    <tr>\n",
       "      <th>15313</th>\n",
       "      <td>Żyżyński Jerzy</td>\n",
       "      <td>Żyżyński</td>\n",
       "      <td>Dziękuję bardzo. Panie Marszałku Wysoka Izbo ...</td>\n",
       "      <td>Neumann</td>\n",
       "      <td>przewodniczący Neumann o przyszłym budżecie,...</td>\n",
       "      <td>Neumann</td>\n",
       "    </tr>\n",
       "    <tr>\n",
       "      <th>15314</th>\n",
       "      <td>Żyżyński Jerzy</td>\n",
       "      <td>Żyżyński</td>\n",
       "      <td>Dziękuję bardzo. Ja w ramach niewykorzystaneg...</td>\n",
       "      <td>Kukiza</td>\n",
       "      <td>Ja w ramach niewykorzystanego czasu chciałem ...</td>\n",
       "      <td>Kukiz</td>\n",
       "    </tr>\n",
       "    <tr>\n",
       "      <th>15315</th>\n",
       "      <td>Żyżyński Jerzy</td>\n",
       "      <td>Żyżyński</td>\n",
       "      <td>Witam. Panie Marszałku Wysoka Izbo Panie Mini...</td>\n",
       "      <td>Skowrońska</td>\n",
       "      <td>(Poseł Krystyna Skowrońska: Pani Bieńkowska o...</td>\n",
       "      <td>Skowrońska</td>\n",
       "    </tr>\n",
       "  </tbody>\n",
       "</table>\n",
       "<p>19992 rows × 6 columns</p>\n",
       "</div>"
      ],
      "text/plain": [
       "               speaker   last_name  \\\n",
       "0      Abramowicz Adam  Abramowicz   \n",
       "1      Abramowicz Adam  Abramowicz   \n",
       "1      Abramowicz Adam  Abramowicz   \n",
       "2      Abramowicz Adam  Abramowicz   \n",
       "3      Abramowicz Adam  Abramowicz   \n",
       "...                ...         ...   \n",
       "15311   Żyżyński Jerzy    Żyżyński   \n",
       "15312   Żyżyński Jerzy    Żyżyński   \n",
       "15313   Żyżyński Jerzy    Żyżyński   \n",
       "15314   Żyżyński Jerzy    Żyżyński   \n",
       "15315   Żyżyński Jerzy    Żyżyński   \n",
       "\n",
       "                                 speech_text_only_author   mentions_org  \\\n",
       "0       Panie Marszałku Wysoki Sejmie Panie Ministrze...         Szydło   \n",
       "1       Panie Marszałku Wysoki Sejmie Rok temu Sejm u...     Morawiecki   \n",
       "1       Panie Marszałku Wysoki Sejmie Rok temu Sejm u...     Morawiecki   \n",
       "2       Panie Marszałku Wysoki Sejmie Panowie Ministr...     Morawiecki   \n",
       "3       Panie Marszałku Wysoka Izbo Stoimy przed hist...  Morawieckiego   \n",
       "...                                                  ...            ...   \n",
       "15311   Panie Marszałku Wysoka Izbo Szanowni Państwo ...       Jaworski   \n",
       "15312   Panie Marszałku Wysoka Izbo Szanowni Państwo ...       Jakubiak   \n",
       "15313   Dziękuję bardzo. Panie Marszałku Wysoka Izbo ...        Neumann   \n",
       "15314   Dziękuję bardzo. Ja w ramach niewykorzystaneg...         Kukiza   \n",
       "15315   Witam. Panie Marszałku Wysoka Izbo Panie Mini...     Skowrońska   \n",
       "\n",
       "                                        mention_sentence    mentions  \n",
       "0       Dzisiaj mamy dla państwa doskonałą wiadomość:...      Szydło  \n",
       "1       Polski rząd zmienia to prawo, premier Mateusz...  Morawiecki  \n",
       "1       Dla nich premier Morawiecki także przewidział...  Morawiecki  \n",
       "2       Premier Morawiecki dołączył ten projekt do sw...  Morawiecki  \n",
       "3       Za chwilę Wysoka Izba przyjmie ustawę z pakie...  Morawiecki  \n",
       "...                                                  ...         ...  \n",
       "15311   Ten budżet po prostu jest dobrym budżetem w r...    Jaworski  \n",
       "15312   Przy całej sympatii, bo pan Jakubiak produkuj...    Jakubiak  \n",
       "15313    przewodniczący Neumann o przyszłym budżecie,...     Neumann  \n",
       "15314   Ja w ramach niewykorzystanego czasu chciałem ...       Kukiz  \n",
       "15315   (Poseł Krystyna Skowrońska: Pani Bieńkowska o...  Skowrońska  \n",
       "\n",
       "[19992 rows x 6 columns]"
      ]
     },
     "execution_count": 21,
     "metadata": {},
     "output_type": "execute_result"
    }
   ],
   "source": [
    "sentiment_data"
   ]
  },
  {
   "cell_type": "code",
   "execution_count": 22,
   "metadata": {},
   "outputs": [
    {
     "name": "stderr",
     "output_type": "stream",
     "text": [
      "100%|██████████| 19992/19992 [26:01<00:00, 12.81it/s] \n"
     ]
    }
   ],
   "source": [
    "# model = SentimentPLModel(from_pretrained='latest')\n",
    "# sentiment_data[\"mention_sentence_score\"] = sentiment_data.progress_apply(lambda x: model(x.mention_sentence).item(),axis=1)\n",
    "# sentiment_score = sentiment_data.groupby(sentiment_data.index)['mention_sentence_score'].mean()"
   ]
  },
  {
   "cell_type": "code",
   "execution_count": 24,
   "metadata": {},
   "outputs": [],
   "source": [
    "sentiment_data.to_csv(\"../data/sentiment_data.csv\")"
   ]
  },
  {
   "cell_type": "code",
   "execution_count": 51,
   "metadata": {},
   "outputs": [
    {
     "name": "stderr",
     "output_type": "stream",
     "text": [
      "100%|██████████| 19992/19992 [24:10<00:00, 13.79it/s] \n"
     ]
    }
   ],
   "source": [
    "\n",
    "# sentiment_data[\"mention_sentence_score\"] = pd.read_csv(\"../data/sentiment_score.csv\")"
   ]
  },
  {
   "cell_type": "code",
   "execution_count": 37,
   "metadata": {},
   "outputs": [],
   "source": [
    "final_sentiment_data = sentiment_data.copy()\n",
    "final_sentiment_data = final_sentiment_data.merge(deputies[[\"last_name\", \"Party\"]], on=\"last_name\", how=\"left\").rename(columns={\"Party\" : \"party_i\"})\n",
    "final_sentiment_data = final_sentiment_data.merge(deputies[[\"last_name\", \"Party\"]], left_on=\"mentions\", right_on=\"last_name\", how=\"left\").rename(columns={\"Party\" : \"party_j\"}).drop(\"last_name_y\", axis=1).rename(columns={\"last_name_x\":\"last_name\"})"
   ]
  },
  {
   "cell_type": "code",
   "execution_count": 38,
   "metadata": {},
   "outputs": [
    {
     "data": {
      "text/html": [
       "<div>\n",
       "<style scoped>\n",
       "    .dataframe tbody tr th:only-of-type {\n",
       "        vertical-align: middle;\n",
       "    }\n",
       "\n",
       "    .dataframe tbody tr th {\n",
       "        vertical-align: top;\n",
       "    }\n",
       "\n",
       "    .dataframe thead th {\n",
       "        text-align: right;\n",
       "    }\n",
       "</style>\n",
       "<table border=\"1\" class=\"dataframe\">\n",
       "  <thead>\n",
       "    <tr style=\"text-align: right;\">\n",
       "      <th></th>\n",
       "      <th>speaker</th>\n",
       "      <th>last_name</th>\n",
       "      <th>speech_text_only_author</th>\n",
       "      <th>mentions_org</th>\n",
       "      <th>mention_sentence</th>\n",
       "      <th>mentions</th>\n",
       "      <th>mention_sentence_score</th>\n",
       "      <th>party_i</th>\n",
       "      <th>party_j</th>\n",
       "    </tr>\n",
       "  </thead>\n",
       "  <tbody>\n",
       "    <tr>\n",
       "      <th>0</th>\n",
       "      <td>Abramowicz Adam</td>\n",
       "      <td>Abramowicz</td>\n",
       "      <td>Panie Marszałku Wysoki Sejmie Panie Ministrze...</td>\n",
       "      <td>Szydło</td>\n",
       "      <td>Dzisiaj mamy dla państwa doskonałą wiadomość:...</td>\n",
       "      <td>Szydło</td>\n",
       "      <td>-0.008995</td>\n",
       "      <td>PiS</td>\n",
       "      <td>PiS</td>\n",
       "    </tr>\n",
       "    <tr>\n",
       "      <th>1</th>\n",
       "      <td>Abramowicz Adam</td>\n",
       "      <td>Abramowicz</td>\n",
       "      <td>Panie Marszałku Wysoki Sejmie Rok temu Sejm u...</td>\n",
       "      <td>Morawiecki</td>\n",
       "      <td>Polski rząd zmienia to prawo, premier Mateusz...</td>\n",
       "      <td>Morawiecki</td>\n",
       "      <td>-0.007059</td>\n",
       "      <td>PiS</td>\n",
       "      <td>WiS</td>\n",
       "    </tr>\n",
       "    <tr>\n",
       "      <th>2</th>\n",
       "      <td>Abramowicz Adam</td>\n",
       "      <td>Abramowicz</td>\n",
       "      <td>Panie Marszałku Wysoki Sejmie Rok temu Sejm u...</td>\n",
       "      <td>Morawiecki</td>\n",
       "      <td>Dla nich premier Morawiecki także przewidział...</td>\n",
       "      <td>Morawiecki</td>\n",
       "      <td>-0.008995</td>\n",
       "      <td>PiS</td>\n",
       "      <td>WiS</td>\n",
       "    </tr>\n",
       "    <tr>\n",
       "      <th>3</th>\n",
       "      <td>Abramowicz Adam</td>\n",
       "      <td>Abramowicz</td>\n",
       "      <td>Panie Marszałku Wysoki Sejmie Panowie Ministr...</td>\n",
       "      <td>Morawiecki</td>\n",
       "      <td>Premier Morawiecki dołączył ten projekt do sw...</td>\n",
       "      <td>Morawiecki</td>\n",
       "      <td>-0.008995</td>\n",
       "      <td>PiS</td>\n",
       "      <td>WiS</td>\n",
       "    </tr>\n",
       "    <tr>\n",
       "      <th>4</th>\n",
       "      <td>Abramowicz Adam</td>\n",
       "      <td>Abramowicz</td>\n",
       "      <td>Panie Marszałku Wysoka Izbo Stoimy przed hist...</td>\n",
       "      <td>Morawieckiego</td>\n",
       "      <td>Za chwilę Wysoka Izba przyjmie ustawę z pakie...</td>\n",
       "      <td>Morawiecki</td>\n",
       "      <td>-0.008995</td>\n",
       "      <td>PiS</td>\n",
       "      <td>WiS</td>\n",
       "    </tr>\n",
       "    <tr>\n",
       "      <th>...</th>\n",
       "      <td>...</td>\n",
       "      <td>...</td>\n",
       "      <td>...</td>\n",
       "      <td>...</td>\n",
       "      <td>...</td>\n",
       "      <td>...</td>\n",
       "      <td>...</td>\n",
       "      <td>...</td>\n",
       "      <td>...</td>\n",
       "    </tr>\n",
       "    <tr>\n",
       "      <th>19987</th>\n",
       "      <td>Żyżyński Jerzy</td>\n",
       "      <td>Żyżyński</td>\n",
       "      <td>Panie Marszałku Wysoka Izbo Szanowni Państwo ...</td>\n",
       "      <td>Jaworski</td>\n",
       "      <td>Ten budżet po prostu jest dobrym budżetem w r...</td>\n",
       "      <td>Jaworski</td>\n",
       "      <td>-0.008995</td>\n",
       "      <td>PiS</td>\n",
       "      <td>PiS</td>\n",
       "    </tr>\n",
       "    <tr>\n",
       "      <th>19988</th>\n",
       "      <td>Żyżyński Jerzy</td>\n",
       "      <td>Żyżyński</td>\n",
       "      <td>Panie Marszałku Wysoka Izbo Szanowni Państwo ...</td>\n",
       "      <td>Jakubiak</td>\n",
       "      <td>Przy całej sympatii, bo pan Jakubiak produkuj...</td>\n",
       "      <td>Jakubiak</td>\n",
       "      <td>0.589318</td>\n",
       "      <td>PiS</td>\n",
       "      <td>niez.</td>\n",
       "    </tr>\n",
       "    <tr>\n",
       "      <th>19989</th>\n",
       "      <td>Żyżyński Jerzy</td>\n",
       "      <td>Żyżyński</td>\n",
       "      <td>Dziękuję bardzo. Panie Marszałku Wysoka Izbo ...</td>\n",
       "      <td>Neumann</td>\n",
       "      <td>przewodniczący Neumann o przyszłym budżecie,...</td>\n",
       "      <td>Neumann</td>\n",
       "      <td>-0.376608</td>\n",
       "      <td>PiS</td>\n",
       "      <td>PO</td>\n",
       "    </tr>\n",
       "    <tr>\n",
       "      <th>19990</th>\n",
       "      <td>Żyżyński Jerzy</td>\n",
       "      <td>Żyżyński</td>\n",
       "      <td>Dziękuję bardzo. Ja w ramach niewykorzystaneg...</td>\n",
       "      <td>Kukiza</td>\n",
       "      <td>Ja w ramach niewykorzystanego czasu chciałem ...</td>\n",
       "      <td>Kukiz</td>\n",
       "      <td>-0.008995</td>\n",
       "      <td>PiS</td>\n",
       "      <td>Kukiz15</td>\n",
       "    </tr>\n",
       "    <tr>\n",
       "      <th>19991</th>\n",
       "      <td>Żyżyński Jerzy</td>\n",
       "      <td>Żyżyński</td>\n",
       "      <td>Witam. Panie Marszałku Wysoka Izbo Panie Mini...</td>\n",
       "      <td>Skowrońska</td>\n",
       "      <td>(Poseł Krystyna Skowrońska: Pani Bieńkowska o...</td>\n",
       "      <td>Skowrońska</td>\n",
       "      <td>-0.673508</td>\n",
       "      <td>PiS</td>\n",
       "      <td>PO</td>\n",
       "    </tr>\n",
       "  </tbody>\n",
       "</table>\n",
       "<p>19992 rows × 9 columns</p>\n",
       "</div>"
      ],
      "text/plain": [
       "               speaker   last_name  \\\n",
       "0      Abramowicz Adam  Abramowicz   \n",
       "1      Abramowicz Adam  Abramowicz   \n",
       "2      Abramowicz Adam  Abramowicz   \n",
       "3      Abramowicz Adam  Abramowicz   \n",
       "4      Abramowicz Adam  Abramowicz   \n",
       "...                ...         ...   \n",
       "19987   Żyżyński Jerzy    Żyżyński   \n",
       "19988   Żyżyński Jerzy    Żyżyński   \n",
       "19989   Żyżyński Jerzy    Żyżyński   \n",
       "19990   Żyżyński Jerzy    Żyżyński   \n",
       "19991   Żyżyński Jerzy    Żyżyński   \n",
       "\n",
       "                                 speech_text_only_author   mentions_org  \\\n",
       "0       Panie Marszałku Wysoki Sejmie Panie Ministrze...         Szydło   \n",
       "1       Panie Marszałku Wysoki Sejmie Rok temu Sejm u...     Morawiecki   \n",
       "2       Panie Marszałku Wysoki Sejmie Rok temu Sejm u...     Morawiecki   \n",
       "3       Panie Marszałku Wysoki Sejmie Panowie Ministr...     Morawiecki   \n",
       "4       Panie Marszałku Wysoka Izbo Stoimy przed hist...  Morawieckiego   \n",
       "...                                                  ...            ...   \n",
       "19987   Panie Marszałku Wysoka Izbo Szanowni Państwo ...       Jaworski   \n",
       "19988   Panie Marszałku Wysoka Izbo Szanowni Państwo ...       Jakubiak   \n",
       "19989   Dziękuję bardzo. Panie Marszałku Wysoka Izbo ...        Neumann   \n",
       "19990   Dziękuję bardzo. Ja w ramach niewykorzystaneg...         Kukiza   \n",
       "19991   Witam. Panie Marszałku Wysoka Izbo Panie Mini...     Skowrońska   \n",
       "\n",
       "                                        mention_sentence    mentions  \\\n",
       "0       Dzisiaj mamy dla państwa doskonałą wiadomość:...      Szydło   \n",
       "1       Polski rząd zmienia to prawo, premier Mateusz...  Morawiecki   \n",
       "2       Dla nich premier Morawiecki także przewidział...  Morawiecki   \n",
       "3       Premier Morawiecki dołączył ten projekt do sw...  Morawiecki   \n",
       "4       Za chwilę Wysoka Izba przyjmie ustawę z pakie...  Morawiecki   \n",
       "...                                                  ...         ...   \n",
       "19987   Ten budżet po prostu jest dobrym budżetem w r...    Jaworski   \n",
       "19988   Przy całej sympatii, bo pan Jakubiak produkuj...    Jakubiak   \n",
       "19989    przewodniczący Neumann o przyszłym budżecie,...     Neumann   \n",
       "19990   Ja w ramach niewykorzystanego czasu chciałem ...       Kukiz   \n",
       "19991   (Poseł Krystyna Skowrońska: Pani Bieńkowska o...  Skowrońska   \n",
       "\n",
       "       mention_sentence_score party_i  party_j  \n",
       "0                   -0.008995     PiS      PiS  \n",
       "1                   -0.007059     PiS      WiS  \n",
       "2                   -0.008995     PiS      WiS  \n",
       "3                   -0.008995     PiS      WiS  \n",
       "4                   -0.008995     PiS      WiS  \n",
       "...                       ...     ...      ...  \n",
       "19987               -0.008995     PiS      PiS  \n",
       "19988                0.589318     PiS    niez.  \n",
       "19989               -0.376608     PiS       PO  \n",
       "19990               -0.008995     PiS  Kukiz15  \n",
       "19991               -0.673508     PiS       PO  \n",
       "\n",
       "[19992 rows x 9 columns]"
      ]
     },
     "execution_count": 38,
     "metadata": {},
     "output_type": "execute_result"
    }
   ],
   "source": [
    "final_sentiment_data"
   ]
  },
  {
   "cell_type": "code",
   "execution_count": 39,
   "metadata": {},
   "outputs": [],
   "source": [
    "final_sentiment_data.to_csv(\"../data/final_sentiment_data.csv\")"
   ]
  },
  {
   "cell_type": "code",
   "execution_count": 272,
   "metadata": {},
   "outputs": [],
   "source": [
    "sentiment_score.to_csv(\"../data/sentiment_score.csv\")"
   ]
  },
  {
   "cell_type": "code",
   "execution_count": 258,
   "metadata": {},
   "outputs": [],
   "source": [
    "final_sentiment_data = mentions_data_org.copy()\n",
    "final_sentiment_data = final_sentiment_data.merge(deputies[[\"last_name\", \"Party\"]], on=\"last_name\", how=\"left\").rename(columns={\"Party\" : \"party_i\"})\n",
    "final_sentiment_data = final_sentiment_data.merge(deputies[[\"last_name\", \"Party\"]], left_on=\"mentions\", right_on=\"last_name\", how=\"left\").rename(columns={\"Party\" : \"party_j\"})\n",
    "final_sentiment_data[\"sentiment_score\"] = sentiment_score"
   ]
  },
  {
   "cell_type": "code",
   "execution_count": 329,
   "metadata": {},
   "outputs": [],
   "source": [
    "test2 = pd.DataFrame(test.groupby([\"party_i\", \"party_j\"])['sentiment_score'].sum()).sort_values(by=\"sentiment_score\").reset_index()\n",
    "test2[\"sentiment_score\"]=test2[\"sentiment_score\"].astype(int)"
   ]
  },
  {
   "cell_type": "code",
   "execution_count": 256,
   "metadata": {},
   "outputs": [],
   "source": []
  },
  {
   "cell_type": "code",
   "execution_count": null,
   "metadata": {},
   "outputs": [],
   "source": []
  }
 ],
 "metadata": {
  "interpreter": {
   "hash": "f8b40d688a12481f01eadf7380c47edd8a49484a47dba3db091451640e880c68"
  },
  "kernelspec": {
   "display_name": "Python 3.9.7 ('base')",
   "language": "python",
   "name": "python3"
  },
  "language_info": {
   "codemirror_mode": {
    "name": "ipython",
    "version": 3
   },
   "file_extension": ".py",
   "mimetype": "text/x-python",
   "name": "python",
   "nbconvert_exporter": "python",
   "pygments_lexer": "ipython3",
   "version": "3.9.7"
  },
  "orig_nbformat": 4
 },
 "nbformat": 4,
 "nbformat_minor": 2
}
